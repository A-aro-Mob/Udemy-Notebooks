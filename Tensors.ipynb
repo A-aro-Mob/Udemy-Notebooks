{
 "cells": [
  {
   "cell_type": "markdown",
   "id": "7182c66f",
   "metadata": {},
   "source": [
    "Import the relevant libraries"
   ]
  },
  {
   "cell_type": "code",
   "execution_count": 1,
   "id": "be7ce554",
   "metadata": {},
   "outputs": [],
   "source": [
    "import numpy as np"
   ]
  },
  {
   "cell_type": "markdown",
   "id": "88f13650",
   "metadata": {},
   "source": [
    "Creating a Tensor"
   ]
  },
  {
   "cell_type": "code",
   "execution_count": 3,
   "id": "51ba6ce4",
   "metadata": {},
   "outputs": [
    {
     "data": {
      "text/plain": [
       "array([[ 5, 12, 16],\n",
       "       [-3,  0, 14]])"
      ]
     },
     "execution_count": 3,
     "metadata": {},
     "output_type": "execute_result"
    }
   ],
   "source": [
    "m1 = np.array([[5,12,16],[-3,0,14]])\n",
    "m1"
   ]
  },
  {
   "cell_type": "code",
   "execution_count": 4,
   "id": "11feab4c",
   "metadata": {},
   "outputs": [
    {
     "data": {
      "text/plain": [
       "array([[ 9,  8,  7],\n",
       "       [ 1,  3, -5]])"
      ]
     },
     "execution_count": 4,
     "metadata": {},
     "output_type": "execute_result"
    }
   ],
   "source": [
    "m2 = np.array([[9,8,7],[1,3,-5]])\n",
    "m2"
   ]
  },
  {
   "cell_type": "code",
   "execution_count": 5,
   "id": "052c82c5",
   "metadata": {},
   "outputs": [],
   "source": [
    "t = np.array([m1,m2])"
   ]
  },
  {
   "cell_type": "code",
   "execution_count": 6,
   "id": "32301463",
   "metadata": {},
   "outputs": [
    {
     "data": {
      "text/plain": [
       "array([[[ 5, 12, 16],\n",
       "        [-3,  0, 14]],\n",
       "\n",
       "       [[ 9,  8,  7],\n",
       "        [ 1,  3, -5]]])"
      ]
     },
     "execution_count": 6,
     "metadata": {},
     "output_type": "execute_result"
    }
   ],
   "source": [
    "t"
   ]
  },
  {
   "cell_type": "markdown",
   "id": "97d11bfb",
   "metadata": {},
   "source": [
    "Check its shape (rank, row, column) k,m,n"
   ]
  },
  {
   "cell_type": "code",
   "execution_count": 7,
   "id": "d10c37d7",
   "metadata": {},
   "outputs": [
    {
     "data": {
      "text/plain": [
       "(2, 2, 3)"
      ]
     },
     "execution_count": 7,
     "metadata": {},
     "output_type": "execute_result"
    }
   ],
   "source": [
    "t.shape"
   ]
  },
  {
   "cell_type": "markdown",
   "id": "bb78c4c5",
   "metadata": {},
   "source": [
    "Manually creating a tensor"
   ]
  },
  {
   "cell_type": "code",
   "execution_count": 13,
   "id": "45515200",
   "metadata": {},
   "outputs": [],
   "source": [
    "t_manual = np.array([[[5,12,6],[-3,0,14]],[[9,8,7],[1,3,-5]],[[9,9,9],[10,10,10]]])"
   ]
  },
  {
   "cell_type": "code",
   "execution_count": 14,
   "id": "8710a926",
   "metadata": {},
   "outputs": [
    {
     "data": {
      "text/plain": [
       "array([[[ 5, 12,  6],\n",
       "        [-3,  0, 14]],\n",
       "\n",
       "       [[ 9,  8,  7],\n",
       "        [ 1,  3, -5]],\n",
       "\n",
       "       [[ 9,  9,  9],\n",
       "        [10, 10, 10]]])"
      ]
     },
     "execution_count": 14,
     "metadata": {},
     "output_type": "execute_result"
    }
   ],
   "source": [
    "t_manual"
   ]
  },
  {
   "cell_type": "code",
   "execution_count": 15,
   "id": "2aa2f958",
   "metadata": {},
   "outputs": [
    {
     "data": {
      "text/plain": [
       "(3, 2, 3)"
      ]
     },
     "execution_count": 15,
     "metadata": {},
     "output_type": "execute_result"
    }
   ],
   "source": [
    "t_manual.shape"
   ]
  },
  {
   "cell_type": "markdown",
   "id": "957a6e5c",
   "metadata": {},
   "source": [
    "/\\\\/\\\\/\\\\ this tensor is \"three, 2x3\" arrays."
   ]
  },
  {
   "cell_type": "code",
   "execution_count": null,
   "id": "0f3fcdee",
   "metadata": {},
   "outputs": [],
   "source": []
  }
 ],
 "metadata": {
  "kernelspec": {
   "display_name": "Python 3 (ipykernel)",
   "language": "python",
   "name": "python3"
  },
  "language_info": {
   "codemirror_mode": {
    "name": "ipython",
    "version": 3
   },
   "file_extension": ".py",
   "mimetype": "text/x-python",
   "name": "python",
   "nbconvert_exporter": "python",
   "pygments_lexer": "ipython3",
   "version": "3.9.13"
  }
 },
 "nbformat": 4,
 "nbformat_minor": 5
}
